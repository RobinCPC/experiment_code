{
 "cells": [
  {
   "cell_type": "markdown",
   "metadata": {},
   "source": [
    "## Using NexMotion API to Control MiniBot\n",
    "### Pre-requirement:\n",
    "* Python2.7 32bit version (NexMotion.dll is 32bit version)\n",
    "* Create MiniBot Configuration from NexMotion Studio (NexMotionNcf.ncf)\n",
    "* For controlling real MiniBOT, do homing process in NexMotion Studio first.\n",
    "\n",
    "#### 1. Include Necessary Libarary with environment variable"
   ]
  },
  {
   "cell_type": "code",
   "execution_count": 1,
   "metadata": {},
   "outputs": [],
   "source": [
    "%config IPCompleter.greedy=True\n",
    "# include nexmotion library\n",
    "import nexmotion as nm\n",
    "from nexmotion.errors import *\n",
    "from nexmotion.constants import *\n",
    "import pandas as pd\n",
    "dll_path = None\n",
    "ini_path = None"
   ]
  },
  {
   "cell_type": "markdown",
   "metadata": {},
   "source": [
    "#### 1.5 Set Path for dll and create config ini file\n",
    "Running simulation with install NexMotion Studio. Make sure you have `NexMotion.dll` and `NexMotionNcf` in `config` folder"
   ]
  },
  {
   "cell_type": "code",
   "execution_count": null,
   "metadata": {},
   "outputs": [],
   "source": [
    "import os\n",
    "import ctypes\n",
    "cwd_path = os.getcwd()\n",
    "# this is necessay dll file for NexMotion Lib\n",
    "dll_path = cwd_path + '\\\\config\\\\NexMotion.dll'\n",
    "print dll_path\n",
    "# set the path for ini file\n",
    "ini_path = cwd_path + '\\\\config\\\\NexMotionLibConfig.ini'\n",
    "print ini_path\n",
    "# create ini file\n",
    "#with open(ini_path, 'w') as confile:\n",
    "#    confile.write('[NexMotion]\\n')\n",
    "#    confile.write('NCF_PATH = \\\"' + cwd_path + '\\\\config\\\\NexMotionNcf.ncf' + '\\\"')"
   ]
  },
  {
   "cell_type": "markdown",
   "metadata": {},
   "source": [
    "#### 1.6 Debug Starting steps"
   ]
  },
  {
   "cell_type": "code",
   "execution_count": null,
   "metadata": {},
   "outputs": [],
   "source": [
    "nmc = nm.Control(dll_path=dll_path)"
   ]
  },
  {
   "cell_type": "code",
   "execution_count": null,
   "metadata": {},
   "outputs": [],
   "source": [
    "nmc.setIniPath(ini_path)"
   ]
  },
  {
   "cell_type": "code",
   "execution_count": null,
   "metadata": {},
   "outputs": [],
   "source": [
    "nmc.dll_.NMC_DeviceCreate(nmc.type_, nmc.index_, ctypes.byref(nmc.id_))"
   ]
  },
  {
   "cell_type": "code",
   "execution_count": null,
   "metadata": {},
   "outputs": [],
   "source": [
    "nmc.dll_.NMC_DeviceLoadIniConfig(nmc.id_)"
   ]
  },
  {
   "cell_type": "code",
   "execution_count": null,
   "metadata": {},
   "outputs": [],
   "source": [
    "nmc.dll_.NMC_DeviceStart(nmc.id_)"
   ]
  },
  {
   "cell_type": "markdown",
   "metadata": {},
   "source": [
    "#### 2. Start Device"
   ]
  },
  {
   "cell_type": "code",
   "execution_count": 2,
   "metadata": {},
   "outputs": [
    {
     "name": "stdout",
     "output_type": "stream",
     "text": [
      "Dynamics library version = 10040966 ( 1 , 0 , 4 , 966 )\n",
      "device id = 1\n"
     ]
    }
   ],
   "source": [
    "if dll_path is None:\n",
    "    nmc = nm.Control()  # will use default path for dll and ini file\n",
    "else:\n",
    "    nmc = nm.Control(dll_path=dll_path)\n",
    "    nmc.setIniPath(ini_path)\n",
    "ret = nmc.deviceOpenup(type_=DEVICE_TYPE_ETHERCAT) # DEVICE_TYPE_SIMULATOR for simulation\n",
    "if ret != nm.errors.SUCCESS:\n",
    "    print \"NMC_DeviceOpenUp error, error code =\", ret"
   ]
  },
  {
   "cell_type": "markdown",
   "metadata": {},
   "source": [
    "#### 3. Check Device State\n",
    "Get the Device State.\n",
    "Here are the 4 possible state. If nothing wrong, the device state will be **4**\n",
    "\n",
    "| Name   |      Value      |  Description |\n",
    "|--------|:-------------:|------:|\n",
    "| NMC_DEVICE_STATE_INIT      | 1 | Initial |\n",
    "| NMC_DEVICE_STATE_READY     | 2 | Ready |\n",
    "| NMC_DEVICE_STATE_ERROR     | 3 | Error |\n",
    "| NMC_DEVICE_STATE_OPERATION | 4 | Operation |"
   ]
  },
  {
   "cell_type": "code",
   "execution_count": 3,
   "metadata": {},
   "outputs": [
    {
     "name": "stdout",
     "output_type": "stream",
     "text": [
      "device state = 4\n"
     ]
    }
   ],
   "source": [
    "ret = nmc.deviceGetState()\n",
    "if ret != SUCCESS:\n",
    "    print \"NMC_DeviceGetState error, error code =\", ret\n",
    "else:\n",
    "    if nmc.devState_.value != DEVICE_STATE_OPERATION:\n",
    "        print \"device state is not OPERATION\" \n",
    "    else:\n",
    "        print \"device state =\", nmc.devState_.value\n"
   ]
  },
  {
   "cell_type": "markdown",
   "metadata": {},
   "source": [
    "#### 4. Display Virtual Robot for visualization"
   ]
  },
  {
   "cell_type": "code",
   "execution_count": 4,
   "metadata": {
    "slideshow": {
     "slide_type": "-"
    }
   },
   "outputs": [
    {
     "data": {
      "text/plain": [
       "0"
      ]
     },
     "execution_count": 4,
     "metadata": {},
     "output_type": "execute_result"
    }
   ],
   "source": [
    "nmc.group3DShow(top_=True)\n",
    "nmc.group3DDrawPath(enable=True)"
   ]
  },
  {
   "cell_type": "markdown",
   "metadata": {},
   "source": [
    "#### 5. Get device information: Count of group"
   ]
  },
  {
   "cell_type": "code",
   "execution_count": null,
   "metadata": {},
   "outputs": [],
   "source": [
    "nmc.deviceGetGroupCount()\n",
    "print \"count of group index\", nmc.numGroup_.value"
   ]
  },
  {
   "cell_type": "markdown",
   "metadata": {},
   "source": [
    "#### 6. Get device information: Count of Group Axis\n",
    "For MiniBot, the below code will output: 6"
   ]
  },
  {
   "cell_type": "code",
   "execution_count": null,
   "metadata": {},
   "outputs": [],
   "source": [
    "nmc.deviceGetGroupAxisCount()\n",
    "print \"group index\", nmc.index_.value, \": count of group axis = \", nmc.numGroupAxis_.value"
   ]
  },
  {
   "cell_type": "markdown",
   "metadata": {},
   "source": [
    "#### 7. Clean alarm of drives of each group\n",
    "When sending movement command (such as moveLine, groupLine), the robot may not execute correctly (such as desired position is outside its workspace or in singular point. Then, the controller will set group state to `GROUP_ERROR_STOP`).\n",
    "These two are useful command to clean alarm or reset state of robot."
   ]
  },
  {
   "cell_type": "code",
   "execution_count": null,
   "metadata": {},
   "outputs": [],
   "source": [
    "nmc.groupResetDriveAlmAll()\n",
    "nmc.groupResetState()"
   ]
  },
  {
   "cell_type": "markdown",
   "metadata": {},
   "source": [
    "## 8. Check group state\n",
    "Here are all possible group (movement) state:\n",
    "Get the state of group. Please refer to the below table for details.\n",
    "\n",
    "|Value | State | Description | \n",
    "|------|:-------:|-------------:| \n",
    "| 0 | GROUP_DISABLE     | A group axis is disabled. | \n",
    "| 1 | GROUP_STAND_STILL | All group axes are enabled. | \n",
    "| 2 | GROUP_STOPPED     | After NMC_GroupStop() is called, the group is stopped. |\n",
    "| 3 | GROUP_STOPPING    | After NMC_GroupStop() is called, the group is stopping. |\n",
    "| 4 | GROUP_MOVING      | The group is moving. |\n",
    "| 5 | GROUP_HOMING      | The group is homing. |\n",
    "| 6 | GROUP_ERROR_STOP  | An error is occurred in a group axis. |\n",
    "\n",
    "##### Note: if Group State == 6 (error stop), please run step 7 to reset state.\n",
    "##### Note: if Group State == 0 (disable), please run step 9 to servo on in order to move robot arm.\n"
   ]
  },
  {
   "cell_type": "code",
   "execution_count": 7,
   "metadata": {},
   "outputs": [
    {
     "name": "stdout",
     "output_type": "stream",
     "text": [
      "Group State =  1\n"
     ]
    }
   ],
   "source": [
    "ret = nmc.groupGetState()\n",
    "if ret != SUCCESS:\n",
    "    print \"groupGetState error, error code =\", ret\n",
    "else:\n",
    "    print \"Group State = \", nmc.groupState_.value"
   ]
  },
  {
   "cell_type": "markdown",
   "metadata": {},
   "source": [
    "#### 9. Enable all axes of group (Servo On)\n",
    "MiniBot will make a sound when it is enabled.\n",
    "And, group sate will be changed (could run step **8** to check again)  \n",
    "Note: need to Enable before running any movement command"
   ]
  },
  {
   "cell_type": "code",
   "execution_count": 6,
   "metadata": {},
   "outputs": [
    {
     "name": "stdout",
     "output_type": "stream",
     "text": [
      "enable all done\n"
     ]
    }
   ],
   "source": [
    "ret = nmc.groupEnable()\n",
    "if ret != SUCCESS:\n",
    "    print \"NMC_DeviceEnableAll error, error code =\", ret\n",
    "else:\n",
    "    print \"enable all done\" "
   ]
  },
  {
   "cell_type": "markdown",
   "metadata": {},
   "source": [
    "#### 10. Show Actual Joint Position\n",
    "This step can be called to check actual joint values after you move or home the Minibot.  \n",
    "For controlling real MiniBOT, make sure you do homing process (or this command will not show correctly)"
   ]
  },
  {
   "cell_type": "code",
   "execution_count": 7,
   "metadata": {},
   "outputs": [
    {
     "name": "stdout",
     "output_type": "stream",
     "text": [
      "NMC_GroupGetActualPosAcs:\n",
      "   Joint 0 val: 0.019\n",
      "   Joint 1 val: 89.958\n",
      "   Joint 2 val: -0.161\n",
      "   Joint 3 val: -0.038\n",
      "   Joint 4 val: -60.869\n",
      "   Joint 5 val: -89.919\n"
     ]
    }
   ],
   "source": [
    "jntPos = [0.] * 6\n",
    "ret = nmc.groupGetActualPosAcs(jntPos)\n",
    "if ret != SUCCESS:\n",
    "    print \"NMC_GroupGetActualPosAcs error, error code =\", ret\n",
    "else:\n",
    "    print \"NMC_GroupGetActualPosAcs:\"\n",
    "    for i in range(0, 6, 1):\n",
    "        print \"   Joint\", i ,\"val:\", '%.3f' % jntPos[i]"
   ]
  },
  {
   "cell_type": "markdown",
   "metadata": {},
   "source": [
    "## 11. Execute Group PTP motion to a pre-define position\n",
    "##### Note: Please make sure all the joints are finish homing (if controlling real MiniBOT)"
   ]
  },
  {
   "cell_type": "code",
   "execution_count": 10,
   "metadata": {},
   "outputs": [
    {
     "data": {
      "text/plain": [
       "0"
      ]
     },
     "execution_count": 10,
     "metadata": {},
     "output_type": "execute_result"
    }
   ],
   "source": [
    "desPos = [0, 45, 0, 0, -45, -90]\n",
    "nmc.groupPtpAcsAll(desPos)"
   ]
  },
  {
   "cell_type": "markdown",
   "metadata": {},
   "source": [
    "#### 12. Show Actual Cartesian Position \n",
    "This step can be called to check actual cartesian values."
   ]
  },
  {
   "cell_type": "code",
   "execution_count": 54,
   "metadata": {},
   "outputs": [
    {
     "name": "stdout",
     "output_type": "stream",
     "text": [
      "groupGetActualPosPcs:\n",
      "\tx val: 357.976\n",
      "\ty val: -109.352\n",
      "\tz val: 234.126\n",
      "\ta val: 89.831\n",
      "\tb val: -0.160\n",
      "\tc val: -178.915\n"
     ]
    }
   ],
   "source": [
    "#get current cartesian value\n",
    "cartPos = [0.] * 6\n",
    "ret = nmc.groupGetActualPosPcs(cartPos)\n",
    "if ret != SUCCESS:\n",
    "    print \"groupGetActualPosPcs error, error code =\", ret\n",
    "else:\n",
    "    print \"groupGetActualPosPcs:\"\n",
    "    coord_list = ['x', 'y', 'z', 'a', 'b', 'c']\n",
    "    for i in range(0, 6, 1):\n",
    "        print \"\\t\", coord_list[i] ,\"val:\", '%.3f' % cartPos[i]"
   ]
  },
  {
   "cell_type": "markdown",
   "metadata": {},
   "source": [
    "## 13. Execute Group Line motion to a pre-define position\n",
    "##### `Note: Please make sure all the joints are finish homing`"
   ]
  },
  {
   "cell_type": "code",
   "execution_count": 53,
   "metadata": {},
   "outputs": [
    {
     "data": {
      "text/plain": [
       "0"
      ]
     },
     "execution_count": 53,
     "metadata": {},
     "output_type": "execute_result"
    }
   ],
   "source": [
    "pos = [0.] * 6\n",
    "nmc.groupGetActualPosPcs(pos)\n",
    "pos[0] += -1.0; pos[1] += -0; pos[2] += -0\n",
    "nmc.groupLine(pos)"
   ]
  },
  {
   "cell_type": "markdown",
   "metadata": {},
   "source": [
    "#### 15. record current pose (Joint space and Cartesian space)"
   ]
  },
  {
   "cell_type": "code",
   "execution_count": 55,
   "metadata": {},
   "outputs": [
    {
     "data": {
      "text/plain": [
       "0"
      ]
     },
     "execution_count": 55,
     "metadata": {},
     "output_type": "execute_result"
    }
   ],
   "source": [
    "nmc.recordPoint()"
   ]
  },
  {
   "cell_type": "markdown",
   "metadata": {},
   "source": [
    "#### 16. show recorded points"
   ]
  },
  {
   "cell_type": "code",
   "execution_count": 56,
   "metadata": {},
   "outputs": [
    {
     "name": "stdout",
     "output_type": "stream",
     "text": [
      "          j1         j2         j3      j4         j5       j6           x  \\\n",
      "0   0.019091  89.957727  -0.160910 -0.0378 -60.869250  -89.919  323.882949   \n",
      "1   0.002728  44.982954  -0.017046 -0.0126 -45.007875  -89.982  430.458095   \n",
      "2  -8.709545  31.208182  11.052272 -0.0522 -43.090875  -98.595  454.565936   \n",
      "3 -13.397727  28.313864  16.638409 -0.1431 -45.843750 -103.194  459.388273   \n",
      "4 -16.945909  46.354773 -19.298182 -0.3402 -28.141875 -106.479  357.975932   \n",
      "\n",
      "            y           z          a         b           c  \n",
      "0    0.053173  574.965931  89.948332 -0.001380  151.072410  \n",
      "1    0.005719  293.310290  89.993643  0.008917 -179.958036  \n",
      "2  -69.695683  235.598554  89.923189 -0.089393 -179.173646  \n",
      "3 -109.597453  235.119295  89.895941 -0.105057 -179.108890  \n",
      "4 -109.352911  234.125720  89.833083 -0.159563 -178.915004  \n"
     ]
    }
   ],
   "source": [
    "df = pd.DataFrame(data=nmc.pnt_list, \n",
    "                  columns=['j1','j2','j3','j4','j5','j6','x','y','z','a','b','c'])\n",
    "df.to_csv(\"record_pnt.csv\")\n",
    "print df"
   ]
  },
  {
   "cell_type": "markdown",
   "metadata": {},
   "source": [
    "## 17. move PTP like GRC"
   ]
  },
  {
   "cell_type": "code",
   "execution_count": 103,
   "metadata": {},
   "outputs": [
    {
     "data": {
      "text/plain": [
       "0"
      ]
     },
     "execution_count": 103,
     "metadata": {},
     "output_type": "execute_result"
    }
   ],
   "source": [
    "nmc.movePTP(0)"
   ]
  },
  {
   "cell_type": "markdown",
   "metadata": {},
   "source": [
    "## 18 moveLine like GRC"
   ]
  },
  {
   "cell_type": "code",
   "execution_count": 102,
   "metadata": {},
   "outputs": [
    {
     "data": {
      "text/plain": [
       "0"
      ]
     },
     "execution_count": 102,
     "metadata": {},
     "output_type": "execute_result"
    }
   ],
   "source": [
    "nmc.moveLine(2)"
   ]
  },
  {
   "cell_type": "markdown",
   "metadata": {},
   "source": [
    "## 19. Halt Robot Movement"
   ]
  },
  {
   "cell_type": "code",
   "execution_count": 101,
   "metadata": {},
   "outputs": [
    {
     "data": {
      "text/plain": [
       "0"
      ]
     },
     "execution_count": 101,
     "metadata": {},
     "output_type": "execute_result"
    }
   ],
   "source": [
    "nmc.groupHalt()"
   ]
  },
  {
   "cell_type": "markdown",
   "metadata": {},
   "source": [
    "## 20. Set DO value\n",
    "Use Digital Output to control gripper or suctions."
   ]
  },
  {
   "cell_type": "code",
   "execution_count": null,
   "metadata": {},
   "outputs": [],
   "source": [
    "DO_list = [[0,4],[]]  # Turn digital oupt 0, 2, 4 to `on` and other to `off`\n",
    "nmc.writeOutputMemory(DO_list)"
   ]
  },
  {
   "cell_type": "markdown",
   "metadata": {},
   "source": [
    "### Write Script "
   ]
  },
  {
   "cell_type": "code",
   "execution_count": 104,
   "metadata": {},
   "outputs": [
    {
     "data": {
      "text/plain": [
       "0"
      ]
     },
     "execution_count": 104,
     "metadata": {},
     "output_type": "execute_result"
    }
   ],
   "source": [
    "import time\n",
    "nmc.movePTP(0)\n",
    "time.sleep(1)\n",
    "nmc.movePTP(1)\n",
    "nmc.movePTP(2)\n",
    "time.sleep(3)\n",
    "nmc.moveLine(3)\n",
    "for i in xrange(2):\n",
    "    nmc.moveLine(4)\n",
    "    nmc.moveLine(3)\n",
    "    time.sleep(3)\n",
    "nmc.moveLine(2)\n",
    "nmc.moveLine(1)\n",
    "nmc.movePTP(0)\n",
    "\n",
    "\n",
    "#nmc.movePTP(0)\n",
    "#time.sleep(1)\n",
    "#nmc.movePTP(2)\n",
    "#time.sleep(1)\n",
    "#nmc.writeOutputMemory([[2],[]])\n",
    "#nmc.moveLine(1)\n",
    "#print nmc.groupGetState()\n",
    "#print nmc.groupState_.value\n",
    "#while nmc.groupState_.value == 4:\n",
    "#    nmc.groupGetState()\n",
    "##time.sleep(2)\n",
    "#nmc.writeOutputMemory([[],[]])\n"
   ]
  },
  {
   "cell_type": "markdown",
   "metadata": {},
   "source": [
    "#### 21. Disable all axes of group (Servo Off)\n",
    "MiniBot will make a sound when it is disabled."
   ]
  },
  {
   "cell_type": "code",
   "execution_count": 8,
   "metadata": {},
   "outputs": [
    {
     "data": {
      "text/plain": [
       "0"
      ]
     },
     "execution_count": 8,
     "metadata": {},
     "output_type": "execute_result"
    }
   ],
   "source": [
    "nmc.groupDisable()"
   ]
  },
  {
   "cell_type": "markdown",
   "metadata": {},
   "source": [
    "#### 22. Shutdown device"
   ]
  },
  {
   "cell_type": "code",
   "execution_count": 9,
   "metadata": {},
   "outputs": [
    {
     "data": {
      "text/plain": [
       "0"
      ]
     },
     "execution_count": 9,
     "metadata": {},
     "output_type": "execute_result"
    }
   ],
   "source": [
    "nmc.deviceShutdown()"
   ]
  },
  {
   "cell_type": "markdown",
   "metadata": {},
   "source": [
    "### Test http request (Setting)"
   ]
  },
  {
   "cell_type": "code",
   "execution_count": 2,
   "metadata": {},
   "outputs": [],
   "source": [
    "import requests\n",
    "import time\n",
    "import uuid\n",
    "import base64\n",
    "# defining the api-endpoint\n",
    "#API_ENDPOINT = \"http://ai.touchcloud.com.tw:5000/api/v1.0/inference\"\n",
    "API_ENDPOINT = \"http://192.168.100.200:5000/api/v1.0/inference\" \n",
    " \n",
    "# data to be sent to api\n",
    "def getDataTemplate():\n",
    "  data = {\n",
    "      'UUID': '24ef383c-96ca-4c81-97cd-c3c9515623ef',\n",
    "      'Thresholds': '0.87',\n",
    "      'Timestamp': '2018-08-30 12:34:22',\n",
    "      'Type': 'JPEG',\n",
    "      'Image': '.......',\n",
    "      'Mode': 'ALL',\n",
    "  }\n",
    "  return data"
   ]
  },
  {
   "cell_type": "markdown",
   "metadata": {},
   "source": [
    "### Run request for TouchCloud Vision"
   ]
  },
  {
   "cell_type": "code",
   "execution_count": 22,
   "metadata": {},
   "outputs": [],
   "source": [
    "def run_request():\n",
    "  # sending post request and saving response as response object\n",
    "  print(API_ENDPOINT)\n",
    "  data = getDataTemplate()\n",
    "  data['UUID'] = str(uuid.uuid4())\n",
    "  data['Image'] = './test/verify/003417.jpg'\n",
    "  r = requests.post(url = API_ENDPOINT, json = data)\n",
    "  #r = requests.get(url = API_ENDPOINT)\n",
    "  # extracting response text\n",
    "  pastebin_url = r.text\n",
    "  result = r.json()\n",
    "  jpg = result['Image']\n",
    "  #print(jpg)\n",
    "    \n",
    "  image = base64.decodestring(jpg.encode())\n",
    "  #fh = open(\"_data/aruco_calib.jpg\", \"wb\")\n",
    "  fh = open(\"imageToSave.jpg\", \"wb\")\n",
    "  fh.write(image)\n",
    "  fh.close()\n",
    "  #print(pastebin_url)\n",
    "  \n",
    "  result['Image'] = 'Base64String'\n",
    "  #print(type(result))\n",
    "  return result\n",
    "\n",
    "#run_request()"
   ]
  },
  {
   "cell_type": "markdown",
   "metadata": {},
   "source": [
    "### Get the position and orientation of LED"
   ]
  },
  {
   "cell_type": "code",
   "execution_count": 58,
   "metadata": {},
   "outputs": [],
   "source": [
    "def get_led_pixel_pose(res, color):\n",
    "    x_pos, y_pos, ang = 0., 0., 0.\n",
    "    if color in res:\n",
    "        x_pos = res[color]['CRX']\n",
    "        y_pos = res[color]['CRY']\n",
    "        ang = res[color]['ANGLE']\n",
    "    else:\n",
    "        print 'Did not detect ', color, ' led in the plate'\n",
    "    return x_pos, y_pos, float(ang)\n"
   ]
  },
  {
   "cell_type": "markdown",
   "metadata": {},
   "source": [
    "### Convert Pixel Pose to Cartesian Pose with Transformation Matrix after calibration \n",
    "Note: MiniBot Need to set Base with Aruco mark that we used for calibration"
   ]
  },
  {
   "cell_type": "code",
   "execution_count": 57,
   "metadata": {},
   "outputs": [],
   "source": [
    "def pixPos2cartPos(pose, ang,trfMatrix):\n",
    "    \"\"\"\n",
    "    pose: np array (3,1)\n",
    "    ang: float\n",
    "    trfMatrix: np Matrix (3,3)\n",
    "    \"\"\"\n",
    "    \n",
    "    cartPos = trfMatrix.dot(pose)\n",
    "    print cartPos\n",
    "    \n",
    "    cartPos = trfMatrix.dot(pose) / 10\n",
    "    print cartPos\n",
    "    # swap x,y\n",
    "    cartPos[[0,1]] = cartPos[[1,0]]\n",
    "    if ang > 180:\n",
    "        ang -= 360\n",
    "    ang += 90\n",
    "    return cartPos, ang"
   ]
  },
  {
   "cell_type": "code",
   "execution_count": 59,
   "metadata": {},
   "outputs": [
    {
     "name": "stdout",
     "output_type": "stream",
     "text": [
      "http://192.168.100.200:5000/api/v1.0/inference\n",
      "\n",
      "\n",
      "\n",
      "\n",
      "{u'blue': {u'Confidence': u'1.0', u'HY': 873, u'ANGLE': u'46.54741809149125', u'BRY': 1048, u'BRX': 1191, u'CRX': 1067, u'CRY': 917, u'HX': 1110, u'TLX': 943, u'TLY': 787}, u'code': u'00', u'UUID': u'823ba14b-6fc5-42c2-a236-ce211a703701', u'color': [u'red', u'yellow', u'green', u'blue'], u'Image': 'Base64String', u'yellow': {u'Confidence': u'0.999023', u'HY': 300, u'ANGLE': u'129.4256989944976', u'BRY': 483, u'BRX': 1247, u'CRX': 1125, u'CRY': 351, u'HX': 1082, u'TLX': 1003, u'TLY': 219}, u'green': {u'Confidence': u'1.0', u'HY': 615, u'ANGLE': u'28.10333164394672', u'BRY': 745, u'BRX': 1484, u'CRX': 1335, u'CRY': 647, u'HX': 1399, u'TLX': 1187, u'TLY': 549}, u'MSG': u'success', u'Type': u'JPEG', u'red': {u'Confidence': u'0.999023', u'HY': 606, u'ANGLE': u'15.880562268420448', u'BRY': 697, u'BRX': 848, u'CRX': 691, u'CRY': 621, u'HX': 758, u'TLX': 535, u'TLY': 546}}\n",
      "LED pose:  691 621 15.8805622684\n",
      "[[-272.85022719]\n",
      " [ 165.53371774]\n",
      " [   0.99492264]]\n",
      "[[-27.28502272]\n",
      " [ 16.55337177]\n",
      " [  0.09949226]]\n",
      "Cartesian Pose:  16.5533717741 -27.2850227191 105.880562268\n"
     ]
    }
   ],
   "source": [
    "import numpy as np\n",
    "import pickle as pkl\n",
    "\n",
    "\n",
    "result = run_request()\n",
    "print '\\n\\n\\n'\n",
    "print result\n",
    "x, y, a = get_led_pixel_pose(result, 'red')\n",
    "\n",
    "print 'LED pose: ', x, y, a\n",
    "pix_pos = np.array([[x, y, 1.0]]).transpose()\n",
    "pix_pos.shape\n",
    "\n",
    "trfM = pkl.load(open('_data/aruco_calib.pkl'))\n",
    "#print trfM\n",
    "cartPos, ang = pixPos2cartPos(pix_pos, a, trfM)\n",
    "print \"Cartesian Pose: \", cartPos[0][0], cartPos[1][0], ang"
   ]
  },
  {
   "cell_type": "code",
   "execution_count": null,
   "metadata": {},
   "outputs": [],
   "source": []
  }
 ],
 "metadata": {
  "kernelspec": {
   "display_name": "Python 2.7 32bits",
   "language": "python",
   "name": "py27_32"
  },
  "language_info": {
   "codemirror_mode": {
    "name": "ipython",
    "version": 2
   },
   "file_extension": ".py",
   "mimetype": "text/x-python",
   "name": "python",
   "nbconvert_exporter": "python",
   "pygments_lexer": "ipython2",
   "version": "2.7.15"
  }
 },
 "nbformat": 4,
 "nbformat_minor": 2
}
